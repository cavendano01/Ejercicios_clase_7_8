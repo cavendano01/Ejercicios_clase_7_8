{
  "nbformat": 4,
  "nbformat_minor": 0,
  "metadata": {
    "colab": {
      "name": "Ejercicios Clase 7 y 8.ipynb",
      "provenance": []
    },
    "kernelspec": {
      "name": "python3",
      "display_name": "Python 3"
    },
    "language_info": {
      "name": "python"
    }
  },
  "cells": [
    {
      "cell_type": "code",
      "metadata": {
        "id": "5xD7ISoc2INu"
      },
      "source": [
        "import numpy as np"
      ],
      "execution_count": 1,
      "outputs": []
    },
    {
      "cell_type": "markdown",
      "metadata": {
        "id": "VUddsqmX1L4m"
      },
      "source": [
        "#Ejercicios Clase 7\n",
        "\n",
        "##Investigar y ejemplificar diferencias entre np.array y np.matrix\n",
        "\n",
        "Las matrices de numpy son conjuntos extrictamente bidimensionales pero que tienen ciertas ventajas sobre arrays: A Ambos metodos se les puede aplicar **.T** para obtener su transpuesta, sin embargo las matrices poseen el .h para la transpuesta conjugada y .I para la invertidad. Lo que significa que podemos tener mayor flexibilidad a la forma de multiplicar los elementos element-wise.\n",
        "\n",
        "De acuaerdo a la documetación oficial de Numpy, las matrices serán deprecadas en futuras versiones por lo que no es recomendado utilizarlas.\n",
        "\n",
        "Cuando utilizamos un array de 2 dimensiones son extrictamente lo mismo por lo que la posible redundancia del metodo lleva a su posible deprecación\n"
      ]
    },
    {
      "cell_type": "markdown",
      "metadata": {
        "id": "-Fq26Ths1Qzi"
      },
      "source": [
        "#Ejercicios Clase 8\n",
        "**Ejercicio aplicado en DS**\n",
        "Se tiene una red neuronal sencilla(y simplificada) como la de la siguiente imagen:\n",
        "<img src=\"https://www.oreilly.com/library/view/practical-convolutional-neural/9781788392303/assets/246151fb-7893-448d-b9bb-7a87b387a24b.png\">\n",
        "\n",
        "Donde:\n",
        "* INPUT LAYER: un vector X de tamaño = 2 que representa los datos de entrada\n",
        "* HIDDEN_LAYER :capa oculta con 2 neuronas definidas por los vectores:\n",
        "    * HL1 = [0.25,0.37]\n",
        "    * HL2 = [-8,14]\n",
        "* OUTPUT_LAYER = capa de salida definida por el vector [4,9]\n",
        "\n",
        "Crear una funcion neural_network(X) para calcular:\n",
        "* Calcule la salida de cada neurona en la capa intermedia aplicada a la capa de entrada.\n",
        "* Use el resultado del paso anterior como entrada para la neurona en la capa de salida\n",
        "\n",
        "Utilizando multiplicación de matrices se debe calcular para cada fila de la matriz de entrada X el valor de las neuronas de la capa intermedia, esto producirá una nueva matriz con el mismo número de filas que X y 2 columnas(1 para cada neurona) , a  los valores de esta matriz se les debe aplicar la función \"sigmoid\"(descrita a continuación) para limitarlos al intervalo de 0 a 1, esto produce una matriz del mismo tamaño pero con valores entre 0 a 1, esta matriz se multiplica matricialmente por la matriz que representa los pesos de la capa de salida  y este proceso produce un nuevo tensor al cual se debe aplicar nuevamente la función sigmoid. El resultado debe ser un tensor con el mismo número de filas que la matriz X y una sola columna(una predicción para cada fila de X.\n",
        "\n",
        "<img src=\"https://cdn-images-1.medium.com/max/1600/1*Xu7B5y9gp0iL5ooBj7LtWw.png\">"
      ]
    },
    {
      "cell_type": "code",
      "metadata": {
        "id": "knWUUEXF2OaB"
      },
      "source": [
        "def sigmoid(x): #convertir los valores de x al rango de 0 a 1\n",
        "    \n",
        "    return 1/(1+np.exp(-x))"
      ],
      "execution_count": 12,
      "outputs": []
    },
    {
      "cell_type": "code",
      "metadata": {
        "colab": {
          "base_uri": "https://localhost:8080/"
        },
        "id": "1S9tgq6424sN",
        "outputId": "9eb0a8c2-1984-48bd-e090-cdee9e1b58c1"
      },
      "source": [
        "H1_W = np.array([[0.25,-8],\n",
        "                 [0.37,14]])\n",
        "OL_W = np.array([[4],[9]])\n",
        "\n",
        "X =  np.array([[0.1,0.2],\n",
        "               [1,2]])\n",
        "\n",
        "H1 = np.matmul(X,H1_W)\n",
        "H1 = sigmoid(H1)  # funcion de activacion: convertir a valores en el intervalo de 0 a 1\n",
        "OL = np.matmul(H1,OL_W)\n",
        "OL = sigmoid(OL)  # funcion de activacion: convertir a valores en el intervalo de 0 a 1\n",
        "\n",
        "print(\"H1= \\n\",H1)\n",
        "print(\"OL= \\n\", OL)"
      ],
      "execution_count": 25,
      "outputs": [
        {
          "output_type": "stream",
          "text": [
            "H1= \n",
            " [[0.52472981 0.88079708]\n",
            " [0.72908792 1.        ]]\n",
            "OL= \n",
            " [[0.99995577]\n",
            " [0.99999332]]\n"
          ],
          "name": "stdout"
        }
      ]
    },
    {
      "cell_type": "markdown",
      "metadata": {
        "id": "1jC9VDAH2Osa"
      },
      "source": [
        "### Ejercicio \n",
        "\n",
        "Implementar en una funcion neural_network(X) la red neuronal definida por la siguiente arquitectura:\n",
        "\n",
        "<img src=\"http://i.imgur.com/UNlffE1.png\">\n",
        "\n",
        "Podemos validar si fue correctamente implementada si usamos como entrada el vector x=[1,1] . Debemos obtener el resultado mostrado en la imagen.\n",
        "\n",
        "Una vez tenemos la implementacion correcta, cambiar la funcion de activacion de la capa de salida por la funcion de activacion ReLu(https://en.wikipedia.org/wiki/Rectifier_(neural_networks)):\n",
        "\n",
        "<img src=\"https://cdn-images-1.medium.com/max/1600/1*DfMRHwxY1gyyDmrIAd-gjQ.png\">\n",
        "\n",
        "Luego evaluar la red neuronal sobre la matriz de datos X(de manera vectorizada):"
      ]
    },
    {
      "cell_type": "code",
      "metadata": {
        "id": "lsNiYoHdqYpQ"
      },
      "source": [
        "def sigmoid(x): #convertir los valores de x al rango de 0 a 1\n",
        "    \n",
        "    return 1/(1+np.exp(-x))"
      ],
      "execution_count": 57,
      "outputs": []
    },
    {
      "cell_type": "code",
      "metadata": {
        "id": "3F3Fu6vAfx6a"
      },
      "source": [
        "\n",
        "def neural_network(X):\n",
        "  H1_W = np.array([[0.712,0.355,0.268],\n",
        "                 [0.112,0.855,0.468]])\n",
        "  \n",
        "  OL_W = np.array([0.116,0.329,0.708])\n",
        "\n",
        "  H1 = np.matmul(X,H1_W)\n",
        "  H1 = sigmoid(H1)  # funcion de activacion: convertir a valores en el intervalo de 0 a 1\n",
        "  OL = np.matmul(H1,OL_W)\n",
        "  OL = sigmoid(OL)  # funcion de activacion: convertir a valores en el intervalo de 0 a 1\n",
        "  return OL\n"
      ],
      "execution_count": 58,
      "outputs": []
    },
    {
      "cell_type": "code",
      "metadata": {
        "colab": {
          "base_uri": "https://localhost:8080/"
        },
        "id": "h1EnzZsrg8pb",
        "outputId": "18571855-9d85-4ea0-8ad9-3bd0c590792f"
      },
      "source": [
        "xa=np.array([[1,1]])\n",
        "neural_network(xa)"
      ],
      "execution_count": 59,
      "outputs": [
        {
          "output_type": "execute_result",
          "data": {
            "text/plain": [
              "array([0.69269553])"
            ]
          },
          "metadata": {
            "tags": []
          },
          "execution_count": 59
        }
      ]
    },
    {
      "cell_type": "code",
      "metadata": {
        "colab": {
          "base_uri": "https://localhost:8080/"
        },
        "id": "wvo_R-Xc2Xyz",
        "outputId": "cfdb9155-560b-4317-b333-47e249377903"
      },
      "source": [
        "xb = np.array([\n",
        "    [0.1,2],\n",
        "    [0.3,0.45],\n",
        "    [5,9],\n",
        "    [12,6],\n",
        "    [7,5],\n",
        "    [0.3,0.8],\n",
        "    [12,5],\n",
        "    [100,200],\n",
        "    [7,8],\n",
        "    [300,1500]])\n",
        "neural_network(xb)"
      ],
      "execution_count": 60,
      "outputs": [
        {
          "output_type": "execute_result",
          "data": {
            "text/plain": [
              "array([0.70244573, 0.66259284, 0.75933678, 0.75973948, 0.75802295,\n",
              "       0.6739704 , 0.75954693, 0.76005845, 0.75952743, 0.76005845])"
            ]
          },
          "metadata": {
            "tags": []
          },
          "execution_count": 60
        }
      ]
    },
    {
      "cell_type": "code",
      "metadata": {
        "id": "cuS8VaSlrG82"
      },
      "source": [
        ""
      ],
      "execution_count": null,
      "outputs": []
    },
    {
      "cell_type": "code",
      "metadata": {
        "id": "croCY54Ipl5_"
      },
      "source": [
        "def ReLu(x): #convertir los valores de x al rango de 0 a 1\n",
        "    \n",
        "    return np.maximum(x, 0)\n",
        "\n",
        "def neural_network_relu(X):\n",
        "  H1_W = np.array([[0.712,0.355,0.268],\n",
        "                 [0.112,0.855,0.468]])\n",
        "  \n",
        "  OL_W = np.array([0.116,0.329,0.708])\n",
        "\n",
        "  H1 = np.matmul(X,H1_W)\n",
        "  H1 = ReLu(H1)  # funcion de activacion: convertir a valores en el intervalo de 0 a 1\n",
        "  OL = np.matmul(H1,OL_W)\n",
        "  OL = ReLu(OL)  # funcion de activacion: convertir a valores en el intervalo de 0 a 1\n",
        "  return OL"
      ],
      "execution_count": 61,
      "outputs": []
    },
    {
      "cell_type": "code",
      "metadata": {
        "colab": {
          "base_uri": "https://localhost:8080/"
        },
        "id": "lPxu2XVtp3qG",
        "outputId": "9e79c0d6-134f-4536-b1ce-c5f9cf04ff98"
      },
      "source": [
        "xc = np.array([\n",
        "    [0.1,2],\n",
        "    [0.3,0.45],\n",
        "    [5,9],\n",
        "    [12,6],\n",
        "    [7,5],\n",
        "    [0.3,0.8],\n",
        "    [12,5],\n",
        "    [100,200],\n",
        "    [7,8],\n",
        "    [300,1500]])\n",
        "neural_network_relu(xc)"
      ],
      "execution_count": 62,
      "outputs": [
        {
          "output_type": "execute_result",
          "data": {
            "text/plain": [
              "array([1.2901751e+00, 3.9827325e-01, 7.5763340e+00, 8.4233580e+00,\n",
              "       5.8520720e+00, 6.1724410e-01, 7.7977270e+00, 1.6403930e+02,\n",
              "       7.7289650e+00, 1.0551858e+03])"
            ]
          },
          "metadata": {
            "tags": []
          },
          "execution_count": 62
        }
      ]
    }
  ]
}